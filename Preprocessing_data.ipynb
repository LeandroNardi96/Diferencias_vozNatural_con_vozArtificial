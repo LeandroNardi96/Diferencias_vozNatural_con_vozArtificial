{
 "cells": [
  {
   "cell_type": "code",
   "execution_count": 1,
   "id": "precise-buddy",
   "metadata": {},
   "outputs": [],
   "source": [
    "import numpy as np\n",
    "import pandas as pd\n",
    "import matplotlib.pyplot as plt\n",
    "import seaborn as sns"
   ]
  },
  {
   "cell_type": "code",
   "execution_count": 2,
   "id": "three-sleeve",
   "metadata": {},
   "outputs": [
    {
     "data": {
      "text/html": [
       "<div>\n",
       "<style scoped>\n",
       "    .dataframe tbody tr th:only-of-type {\n",
       "        vertical-align: middle;\n",
       "    }\n",
       "\n",
       "    .dataframe tbody tr th {\n",
       "        vertical-align: top;\n",
       "    }\n",
       "\n",
       "    .dataframe thead th {\n",
       "        text-align: right;\n",
       "    }\n",
       "</style>\n",
       "<table border=\"1\" class=\"dataframe\">\n",
       "  <thead>\n",
       "    <tr style=\"text-align: right;\">\n",
       "      <th></th>\n",
       "      <th>Audio Female</th>\n",
       "      <th>E. Average</th>\n",
       "      <th>E. Median</th>\n",
       "    </tr>\n",
       "  </thead>\n",
       "  <tbody>\n",
       "    <tr>\n",
       "      <th>0</th>\n",
       "      <td>Audio 1</td>\n",
       "      <td>4.883483</td>\n",
       "      <td>11.567266</td>\n",
       "    </tr>\n",
       "    <tr>\n",
       "      <th>1</th>\n",
       "      <td>Audio 2</td>\n",
       "      <td>0.961040</td>\n",
       "      <td>5.673701</td>\n",
       "    </tr>\n",
       "    <tr>\n",
       "      <th>2</th>\n",
       "      <td>Audio 3</td>\n",
       "      <td>8.275112</td>\n",
       "      <td>22.925481</td>\n",
       "    </tr>\n",
       "    <tr>\n",
       "      <th>3</th>\n",
       "      <td>Audio 4</td>\n",
       "      <td>10.354287</td>\n",
       "      <td>18.455918</td>\n",
       "    </tr>\n",
       "    <tr>\n",
       "      <th>4</th>\n",
       "      <td>Audio 5</td>\n",
       "      <td>10.591086</td>\n",
       "      <td>1.863097</td>\n",
       "    </tr>\n",
       "  </tbody>\n",
       "</table>\n",
       "</div>"
      ],
      "text/plain": [
       "  Audio Female  E. Average  E. Median\n",
       "0      Audio 1    4.883483  11.567266\n",
       "1      Audio 2    0.961040   5.673701\n",
       "2      Audio 3    8.275112  22.925481\n",
       "3      Audio 4   10.354287  18.455918\n",
       "4      Audio 5   10.591086   1.863097"
      ]
     },
     "execution_count": 2,
     "metadata": {},
     "output_type": "execute_result"
    }
   ],
   "source": [
    "data = pd.read_excel(r'C:\\Users\\Lean\\Desktop\\Deep Learning - Audio\\Sato Test Subjetivo\\Data audios\\Analisis Estadistico Objetivo Audios.xlsx', sheet_name='Female')\n",
    "col1 = data.loc[2:,'Female']\n",
    "col2 = data.loc[2:,'E. Average']\n",
    "col3 = data.loc[2:,'E. Median']\n",
    "\n",
    "data_female = pd.DataFrame({'Audio Female': col1, 'E. Average': col2, 'E. Median': col3})\n",
    "data_female['E. Average'] = data_female['E. Average'].apply(lambda x: x*100)\n",
    "data_female['E. Median'] = data_female['E. Median'].apply(lambda x: x*100)\n",
    "data_female.reset_index(drop = True)"
   ]
  },
  {
   "cell_type": "code",
   "execution_count": 3,
   "id": "compatible-disclosure",
   "metadata": {},
   "outputs": [
    {
     "data": {
      "text/html": [
       "<div>\n",
       "<style scoped>\n",
       "    .dataframe tbody tr th:only-of-type {\n",
       "        vertical-align: middle;\n",
       "    }\n",
       "\n",
       "    .dataframe tbody tr th {\n",
       "        vertical-align: top;\n",
       "    }\n",
       "\n",
       "    .dataframe thead th {\n",
       "        text-align: right;\n",
       "    }\n",
       "</style>\n",
       "<table border=\"1\" class=\"dataframe\">\n",
       "  <thead>\n",
       "    <tr style=\"text-align: right;\">\n",
       "      <th></th>\n",
       "      <th>Audio Masculine</th>\n",
       "      <th>E. Average</th>\n",
       "      <th>E. Median</th>\n",
       "    </tr>\n",
       "  </thead>\n",
       "  <tbody>\n",
       "    <tr>\n",
       "      <th>0</th>\n",
       "      <td>Audio 1</td>\n",
       "      <td>5.482311</td>\n",
       "      <td>3.478236</td>\n",
       "    </tr>\n",
       "    <tr>\n",
       "      <th>1</th>\n",
       "      <td>Audio 2</td>\n",
       "      <td>9.112962</td>\n",
       "      <td>4.926145</td>\n",
       "    </tr>\n",
       "    <tr>\n",
       "      <th>2</th>\n",
       "      <td>Audio 3</td>\n",
       "      <td>7.865347</td>\n",
       "      <td>17.754512</td>\n",
       "    </tr>\n",
       "    <tr>\n",
       "      <th>3</th>\n",
       "      <td>Audio 4</td>\n",
       "      <td>13.871324</td>\n",
       "      <td>9.953810</td>\n",
       "    </tr>\n",
       "    <tr>\n",
       "      <th>4</th>\n",
       "      <td>Audio 5</td>\n",
       "      <td>8.819601</td>\n",
       "      <td>0.812122</td>\n",
       "    </tr>\n",
       "  </tbody>\n",
       "</table>\n",
       "</div>"
      ],
      "text/plain": [
       "  Audio Masculine  E. Average  E. Median\n",
       "0         Audio 1    5.482311   3.478236\n",
       "1         Audio 2    9.112962   4.926145\n",
       "2         Audio 3    7.865347  17.754512\n",
       "3         Audio 4   13.871324   9.953810\n",
       "4         Audio 5    8.819601   0.812122"
      ]
     },
     "execution_count": 3,
     "metadata": {},
     "output_type": "execute_result"
    }
   ],
   "source": [
    "data = pd.read_excel(r'C:\\Users\\Lean\\Desktop\\Deep Learning - Audio\\Sato Test Subjetivo\\Data audios\\Analisis Estadistico Objetivo Audios.xlsx', sheet_name='Masculine')\n",
    "col1 = data.loc[2:,'Masculine']\n",
    "col2 = data.loc[2:,'E. Average']\n",
    "col3 = data.loc[2:,'E. Median']\n",
    "\n",
    "data_masculine = pd.DataFrame({'Audio Masculine': col1, 'E. Average': col2, 'E. Median': col3})\n",
    "data_masculine['E. Average'] = data_masculine['E. Average'].apply(lambda x: x*100)\n",
    "data_masculine['E. Median'] = data_masculine['E. Median'].apply(lambda x: x*100)\n",
    "data_masculine.reset_index(drop = True)"
   ]
  },
  {
   "cell_type": "code",
   "execution_count": 4,
   "id": "requested-spine",
   "metadata": {},
   "outputs": [
    {
     "data": {
      "text/html": [
       "<div>\n",
       "<style scoped>\n",
       "    .dataframe tbody tr th:only-of-type {\n",
       "        vertical-align: middle;\n",
       "    }\n",
       "\n",
       "    .dataframe tbody tr th {\n",
       "        vertical-align: top;\n",
       "    }\n",
       "\n",
       "    .dataframe thead th {\n",
       "        text-align: right;\n",
       "    }\n",
       "</style>\n",
       "<table border=\"1\" class=\"dataframe\">\n",
       "  <thead>\n",
       "    <tr style=\"text-align: right;\">\n",
       "      <th></th>\n",
       "      <th>Audio Female</th>\n",
       "      <th>variable</th>\n",
       "      <th>value</th>\n",
       "    </tr>\n",
       "  </thead>\n",
       "  <tbody>\n",
       "    <tr>\n",
       "      <th>0</th>\n",
       "      <td>Audio 1</td>\n",
       "      <td>E. Average</td>\n",
       "      <td>4.883483</td>\n",
       "    </tr>\n",
       "    <tr>\n",
       "      <th>1</th>\n",
       "      <td>Audio 2</td>\n",
       "      <td>E. Average</td>\n",
       "      <td>0.961040</td>\n",
       "    </tr>\n",
       "    <tr>\n",
       "      <th>2</th>\n",
       "      <td>Audio 3</td>\n",
       "      <td>E. Average</td>\n",
       "      <td>8.275112</td>\n",
       "    </tr>\n",
       "    <tr>\n",
       "      <th>3</th>\n",
       "      <td>Audio 4</td>\n",
       "      <td>E. Average</td>\n",
       "      <td>10.354287</td>\n",
       "    </tr>\n",
       "    <tr>\n",
       "      <th>4</th>\n",
       "      <td>Audio 5</td>\n",
       "      <td>E. Average</td>\n",
       "      <td>10.591086</td>\n",
       "    </tr>\n",
       "  </tbody>\n",
       "</table>\n",
       "</div>"
      ],
      "text/plain": [
       "  Audio Female    variable      value\n",
       "0      Audio 1  E. Average   4.883483\n",
       "1      Audio 2  E. Average   0.961040\n",
       "2      Audio 3  E. Average   8.275112\n",
       "3      Audio 4  E. Average  10.354287\n",
       "4      Audio 5  E. Average  10.591086"
      ]
     },
     "execution_count": 4,
     "metadata": {},
     "output_type": "execute_result"
    }
   ],
   "source": [
    "data_female_melt = pd.melt(data_female,id_vars=['Audio Female'],value_vars=['E. Average', 'E. Median'])\n",
    "data_female_melt.head()"
   ]
  },
  {
   "cell_type": "code",
   "execution_count": 5,
   "id": "physical-mortality",
   "metadata": {},
   "outputs": [
    {
     "data": {
      "image/png": "[encoded data removed]",
      "text/plain": [
       "<Figure size 432x288 with 1 Axes>"
      ]
     },
     "metadata": {
      "needs_background": "light"
     },
     "output_type": "display_data"
    }
   ],
   "source": [
    "dims = (6,4)\n",
    "fig,ax = plt.subplots(figsize=dims)\n",
    "with sns.axes_style('darkgrid'):\n",
    "    g = sns.barplot(x = 'Audio Female',y = 'value',hue='variable',data=data_female_melt,palette=['#DB845B', '#5B73DB'],ax=ax,\n",
    "                    saturation=0.9,order=['Audio 1','Audio 2','Audio 3','Audio 4','Audio 5'])\n",
    "    g.set_xlabel('',weight='bold',size='xx-large',alpha=0.8,family= 'Arial',stretch='extra-expanded')\n",
    "    g.set_ylabel('Pitch Error Rate [%]',weight='bold',size='x-large',alpha=0.8,family= 'Arial',stretch='extra-expanded')\n",
    "    g.set_yticks([0,2,4,6,8,10,12,14,16,18,20,22,24])\n",
    "    g.set_title('Female Audio',weight='bold',size='xx-large',alpha=0.8,family= 'Arial',stretch='extra-expanded')\n",
    "    g.set_xticklabels(['Audio 1','Audio 2','Audio 3','Audio 4','Audio 5'],size=12)\n",
    "    g.set_yticklabels(['0','2','4','6','8','10','12','14','16','18','20','22','24'],size=12)\n",
    "    g.legend()\n",
    "    g.grid(alpha=0.8)\n",
    "    #plt.savefig(\"Error Female Audios Pitch.png\")"
   ]
  },
  {
   "cell_type": "code",
   "execution_count": 6,
   "id": "spoken-telescope",
   "metadata": {},
   "outputs": [
    {
     "data": {
      "text/html": [
       "<div>\n",
       "<style scoped>\n",
       "    .dataframe tbody tr th:only-of-type {\n",
       "        vertical-align: middle;\n",
       "    }\n",
       "\n",
       "    .dataframe tbody tr th {\n",
       "        vertical-align: top;\n",
       "    }\n",
       "\n",
       "    .dataframe thead th {\n",
       "        text-align: right;\n",
       "    }\n",
       "</style>\n",
       "<table border=\"1\" class=\"dataframe\">\n",
       "  <thead>\n",
       "    <tr style=\"text-align: right;\">\n",
       "      <th></th>\n",
       "      <th>Audio Masculine</th>\n",
       "      <th>variable</th>\n",
       "      <th>value</th>\n",
       "    </tr>\n",
       "  </thead>\n",
       "  <tbody>\n",
       "    <tr>\n",
       "      <th>0</th>\n",
       "      <td>Audio 1</td>\n",
       "      <td>E. Average</td>\n",
       "      <td>5.482311</td>\n",
       "    </tr>\n",
       "    <tr>\n",
       "      <th>1</th>\n",
       "      <td>Audio 2</td>\n",
       "      <td>E. Average</td>\n",
       "      <td>9.112962</td>\n",
       "    </tr>\n",
       "    <tr>\n",
       "      <th>2</th>\n",
       "      <td>Audio 3</td>\n",
       "      <td>E. Average</td>\n",
       "      <td>7.865347</td>\n",
       "    </tr>\n",
       "    <tr>\n",
       "      <th>3</th>\n",
       "      <td>Audio 4</td>\n",
       "      <td>E. Average</td>\n",
       "      <td>13.871324</td>\n",
       "    </tr>\n",
       "    <tr>\n",
       "      <th>4</th>\n",
       "      <td>Audio 5</td>\n",
       "      <td>E. Average</td>\n",
       "      <td>8.819601</td>\n",
       "    </tr>\n",
       "  </tbody>\n",
       "</table>\n",
       "</div>"
      ],
      "text/plain": [
       "  Audio Masculine    variable      value\n",
       "0         Audio 1  E. Average   5.482311\n",
       "1         Audio 2  E. Average   9.112962\n",
       "2         Audio 3  E. Average   7.865347\n",
       "3         Audio 4  E. Average  13.871324\n",
       "4         Audio 5  E. Average   8.819601"
      ]
     },
     "execution_count": 6,
     "metadata": {},
     "output_type": "execute_result"
    }
   ],
   "source": [
    "data_masculine_melt = pd.melt(data_masculine,id_vars=['Audio Masculine'],value_vars=['E. Average', 'E. Median'])\n",
    "data_masculine_melt.head()"
   ]
  },
  {
   "cell_type": "code",
   "execution_count": 7,
   "id": "capable-intersection",
   "metadata": {},
   "outputs": [
    {
     "data": {
      "image/png": "[encoded data removed]",
      "text/plain": [
       "<Figure size 432x288 with 1 Axes>"
      ]
     },
     "metadata": {
      "needs_background": "light"
     },
     "output_type": "display_data"
    }
   ],
   "source": [
    "dims = (6,4)\n",
    "fig,ax = plt.subplots(figsize=dims)\n",
    "with sns.axes_style('darkgrid'):\n",
    "    g = sns.barplot(x = 'Audio Masculine',y = 'value',hue='variable',data=data_masculine_melt,palette=['#DB845B', '#5B73DB'],\n",
    "                    ax=ax,saturation=0.9,order=['Audio 1','Audio 2','Audio 3','Audio 4','Audio 5'])\n",
    "    g.set_xlabel('',weight='bold',size='xx-large',alpha=0.8,family= 'Arial',stretch='extra-expanded')\n",
    "    g.set_ylabel('Pitch Error Rate [%]',weight='bold',size='x-large',alpha=0.8,family= 'Arial',stretch='extra-expanded')\n",
    "    g.set_yticks([0,2,4,6,8,10,12,14,16,18,20,22,24])\n",
    "    g.set_title('Male Audio',weight='bold',size='xx-large',alpha=0.8,family= 'Arial',stretch='extra-expanded')\n",
    "    g.set_xticklabels(['Audio 1','Audio 2','Audio 3','Audio 4','Audio 5'],size=12)\n",
    "    g.set_yticklabels(['0','2','4','6','8','10','12','14','16','18','20','22','24'],size=12)\n",
    "    g.legend()\n",
    "    g.grid(alpha=0.8)\n",
    "    #plt.savefig(\"Error Male Audios Pitch.png\")"
   ]
  },
  {
   "cell_type": "code",
   "execution_count": 8,
   "id": "younger-freight",
   "metadata": {},
   "outputs": [
    {
     "data": {
      "text/html": [
       "<div>\n",
       "<style scoped>\n",
       "    .dataframe tbody tr th:only-of-type {\n",
       "        vertical-align: middle;\n",
       "    }\n",
       "\n",
       "    .dataframe tbody tr th {\n",
       "        vertical-align: top;\n",
       "    }\n",
       "\n",
       "    .dataframe thead th {\n",
       "        text-align: right;\n",
       "    }\n",
       "</style>\n",
       "<table border=\"1\" class=\"dataframe\">\n",
       "  <thead>\n",
       "    <tr style=\"text-align: right;\">\n",
       "      <th></th>\n",
       "      <th>Female Pitch</th>\n",
       "      <th>Average</th>\n",
       "      <th>Median</th>\n",
       "      <th>Range</th>\n",
       "      <th>Type</th>\n",
       "    </tr>\n",
       "  </thead>\n",
       "  <tbody>\n",
       "    <tr>\n",
       "      <th>0</th>\n",
       "      <td>Audio 1</td>\n",
       "      <td>167.890573</td>\n",
       "      <td>156.968485</td>\n",
       "      <td>168.2</td>\n",
       "      <td>Natural Voice</td>\n",
       "    </tr>\n",
       "    <tr>\n",
       "      <th>1</th>\n",
       "      <td>Audio 1</td>\n",
       "      <td>176.089480</td>\n",
       "      <td>175.125447</td>\n",
       "      <td>116.9</td>\n",
       "      <td>Artificial Voice</td>\n",
       "    </tr>\n",
       "    <tr>\n",
       "      <th>2</th>\n",
       "      <td>Audio 2</td>\n",
       "      <td>191.100022</td>\n",
       "      <td>179.174395</td>\n",
       "      <td>256.1</td>\n",
       "      <td>Natural Voice</td>\n",
       "    </tr>\n",
       "    <tr>\n",
       "      <th>3</th>\n",
       "      <td>Audio 2</td>\n",
       "      <td>192.936569</td>\n",
       "      <td>189.340214</td>\n",
       "      <td>194.9</td>\n",
       "      <td>Artificial Voice</td>\n",
       "    </tr>\n",
       "    <tr>\n",
       "      <th>4</th>\n",
       "      <td>Audio 3</td>\n",
       "      <td>192.782448</td>\n",
       "      <td>172.760375</td>\n",
       "      <td>185.1</td>\n",
       "      <td>Natural Voice</td>\n",
       "    </tr>\n",
       "  </tbody>\n",
       "</table>\n",
       "</div>"
      ],
      "text/plain": [
       "  Female Pitch     Average      Median  Range              Type\n",
       "0      Audio 1  167.890573  156.968485  168.2     Natural Voice\n",
       "1      Audio 1  176.089480  175.125447  116.9  Artificial Voice\n",
       "2      Audio 2  191.100022  179.174395  256.1     Natural Voice\n",
       "3      Audio 2  192.936569  189.340214  194.9  Artificial Voice\n",
       "4      Audio 3  192.782448  172.760375  185.1     Natural Voice"
      ]
     },
     "execution_count": 8,
     "metadata": {},
     "output_type": "execute_result"
    }
   ],
   "source": [
    "data_female_2 = pd.read_excel(r'C:\\Users\\Lean\\Desktop\\Deep Learning - Audio\\Sato Test Subjetivo\\Data audios\\Analisis Estadistico Objetivo Audios.xlsx', \n",
    "                     sheet_name='Female_graph')\n",
    "\n",
    "data_female_2 = data_female_2.dropna(axis=1)\n",
    "data_female_2.head()"
   ]
  },
  {
   "cell_type": "code",
   "execution_count": 9,
   "id": "funny-insertion",
   "metadata": {},
   "outputs": [
    {
     "data": {
      "text/html": [
       "<div>\n",
       "<style scoped>\n",
       "    .dataframe tbody tr th:only-of-type {\n",
       "        vertical-align: middle;\n",
       "    }\n",
       "\n",
       "    .dataframe tbody tr th {\n",
       "        vertical-align: top;\n",
       "    }\n",
       "\n",
       "    .dataframe thead th {\n",
       "        text-align: right;\n",
       "    }\n",
       "</style>\n",
       "<table border=\"1\" class=\"dataframe\">\n",
       "  <thead>\n",
       "    <tr style=\"text-align: right;\">\n",
       "      <th></th>\n",
       "      <th>Masculine Pitch</th>\n",
       "      <th>Average</th>\n",
       "      <th>Median</th>\n",
       "      <th>Range</th>\n",
       "      <th>Type</th>\n",
       "    </tr>\n",
       "  </thead>\n",
       "  <tbody>\n",
       "    <tr>\n",
       "      <th>0</th>\n",
       "      <td>Audio 1</td>\n",
       "      <td>166.265263</td>\n",
       "      <td>146.972872</td>\n",
       "      <td>225.00</td>\n",
       "      <td>Natural Voice</td>\n",
       "    </tr>\n",
       "    <tr>\n",
       "      <th>1</th>\n",
       "      <td>Audio 1</td>\n",
       "      <td>157.150084</td>\n",
       "      <td>152.084935</td>\n",
       "      <td>141.10</td>\n",
       "      <td>Artificial Voice</td>\n",
       "    </tr>\n",
       "    <tr>\n",
       "      <th>2</th>\n",
       "      <td>Audio 2</td>\n",
       "      <td>123.352054</td>\n",
       "      <td>117.118150</td>\n",
       "      <td>119.60</td>\n",
       "      <td>Natural Voice</td>\n",
       "    </tr>\n",
       "    <tr>\n",
       "      <th>3</th>\n",
       "      <td>Audio 2</td>\n",
       "      <td>112.111028</td>\n",
       "      <td>111.348740</td>\n",
       "      <td>92.04</td>\n",
       "      <td>Artificial Voice</td>\n",
       "    </tr>\n",
       "    <tr>\n",
       "      <th>4</th>\n",
       "      <td>Audio 3</td>\n",
       "      <td>133.708648</td>\n",
       "      <td>140.510189</td>\n",
       "      <td>97.44</td>\n",
       "      <td>Natural Voice</td>\n",
       "    </tr>\n",
       "  </tbody>\n",
       "</table>\n",
       "</div>"
      ],
      "text/plain": [
       "  Masculine Pitch     Average      Median   Range              Type\n",
       "0         Audio 1  166.265263  146.972872  225.00     Natural Voice\n",
       "1         Audio 1  157.150084  152.084935  141.10  Artificial Voice\n",
       "2         Audio 2  123.352054  117.118150  119.60     Natural Voice\n",
       "3         Audio 2  112.111028  111.348740   92.04  Artificial Voice\n",
       "4         Audio 3  133.708648  140.510189   97.44     Natural Voice"
      ]
     },
     "execution_count": 9,
     "metadata": {},
     "output_type": "execute_result"
    }
   ],
   "source": [
    "data_masculine_2 = pd.read_excel(r'C:\\Users\\Lean\\Desktop\\Deep Learning - Audio\\Sato Test Subjetivo\\Data audios\\Analisis Estadistico Objetivo Audios.xlsx', \n",
    "                     sheet_name='Masculine_graph')\n",
    "\n",
    "data_masculine_2 = data_masculine_2.dropna(axis=1)\n",
    "data_masculine_2.head()"
   ]
  },
  {
   "cell_type": "code",
   "execution_count": 10,
   "id": "beautiful-maximum",
   "metadata": {},
   "outputs": [
    {
     "name": "stderr",
     "output_type": "stream",
     "text": [
      "<ipython-input-10-b54a5898b17c>:10: UserWarning: FixedFormatter should only be used together with FixedLocator\n",
      "  g.set_xticklabels(['Audio 1','Audio 2','Audio 3','Audio 4','Audio 5'],size=12)\n"
     ]
    },
    {
     "data": {
      "image/png": "[encoded data removed]",
      "text/plain": [
       "<Figure size 432x288 with 1 Axes>"
      ]
     },
     "metadata": {
      "needs_background": "light"
     },
     "output_type": "display_data"
    }
   ],
   "source": [
    "dims = (6,4)\n",
    "fig,ax = plt.subplots(figsize=dims)\n",
    "with sns.axes_style('darkgrid'):\n",
    "    g = sns.lineplot(x ='Female Pitch',y = 'Range',hue='Type',style='Type',data=data_female_2,\n",
    "                     palette=['#DB845B', '#5B73DB'],ax=ax,linewidth=2.3,markers=['o','s'],markersize=9);\n",
    "    g.set_xlabel('',weight='bold',size='xx-large',alpha=0.8,family= 'Arial',stretch='extra-expanded')\n",
    "    g.set_ylabel('Pitch Range [Hz]',weight='bold',size='x-large',alpha=0.8,family= 'Arial',stretch='extra-expanded')\n",
    "    g.set_title('Female Audio',weight='bold',size='xx-large',alpha=0.8,family= 'Arial',stretch='extra-expanded')\n",
    "    g.set_yticks([50,100,150,200,250,300,350,400,450,500])\n",
    "    g.set_xticklabels(['Audio 1','Audio 2','Audio 3','Audio 4','Audio 5'],size=12)\n",
    "    g.set_yticklabels(['50','100','150','200','250','300','350','400','450','500'],size=12)\n",
    "    g.legend()\n",
    "    g.grid(alpha=0.8)\n",
    "    #plt.savefig(\"Female Pitch Range.png\")"
   ]
  },
  {
   "cell_type": "code",
   "execution_count": 11,
   "id": "laden-bandwidth",
   "metadata": {},
   "outputs": [
    {
     "name": "stderr",
     "output_type": "stream",
     "text": [
      "<ipython-input-11-fb867c4cddc7>:10: UserWarning: FixedFormatter should only be used together with FixedLocator\n",
      "  g.set_xticklabels(['Audio 1','Audio 2','Audio 3','Audio 4','Audio 5'],size=12)\n"
     ]
    },
    {
     "data": {
      "image/png": "[encoded data removed]",
      "text/plain": [
       "<Figure size 432x288 with 1 Axes>"
      ]
     },
     "metadata": {
      "needs_background": "light"
     },
     "output_type": "display_data"
    }
   ],
   "source": [
    "dims = (6,4)\n",
    "fig,ax = plt.subplots(figsize=dims)\n",
    "with sns.axes_style('darkgrid'):\n",
    "    g = sns.lineplot(x ='Masculine Pitch',y = 'Range',hue='Type',style='Type',data=data_masculine_2,\n",
    "                     palette=['#DB845B', '#5B73DB'],ax=ax,linewidth=2.3,markers=['o','s'],markersize=9)\n",
    "    g.set_xlabel('',weight='bold',size='xx-large',alpha=0.8,family= 'Arial',stretch='extra-expanded')\n",
    "    g.set_ylabel('Pitch Range [Hz]',weight='bold',size='x-large',alpha=0.8,family= 'Arial',stretch='extra-expanded')\n",
    "    g.set_title('Male Audio',weight='bold',size='xx-large',alpha=0.8,family= 'Arial',stretch='extra-expanded')\n",
    "    g.set_yticks([50,100,150,200,250,300,350,400,450,500])\n",
    "    g.set_xticklabels(['Audio 1','Audio 2','Audio 3','Audio 4','Audio 5'],size=12)\n",
    "    g.set_yticklabels(['50','100','150','200','250','300','350','400','450','500'],size=12)\n",
    "    g.legend()\n",
    "    g.grid(alpha=0.8)\n",
    "    #plt.savefig(\"Male Pitch Range.png\")"
   ]
  },
  {
   "cell_type": "code",
   "execution_count": 12,
   "id": "suitable-sense",
   "metadata": {},
   "outputs": [
    {
     "data": {
      "text/html": [
       "<div>\n",
       "<style scoped>\n",
       "    .dataframe tbody tr th:only-of-type {\n",
       "        vertical-align: middle;\n",
       "    }\n",
       "\n",
       "    .dataframe tbody tr th {\n",
       "        vertical-align: top;\n",
       "    }\n",
       "\n",
       "    .dataframe thead th {\n",
       "        text-align: right;\n",
       "    }\n",
       "</style>\n",
       "<table border=\"1\" class=\"dataframe\">\n",
       "  <thead>\n",
       "    <tr style=\"text-align: right;\">\n",
       "      <th></th>\n",
       "      <th>Female Pitch</th>\n",
       "      <th>variable</th>\n",
       "      <th>value</th>\n",
       "      <th>Type</th>\n",
       "    </tr>\n",
       "  </thead>\n",
       "  <tbody>\n",
       "    <tr>\n",
       "      <th>10</th>\n",
       "      <td>Audio 1</td>\n",
       "      <td>Median</td>\n",
       "      <td>156.968485</td>\n",
       "      <td>Natural Voice Median</td>\n",
       "    </tr>\n",
       "    <tr>\n",
       "      <th>11</th>\n",
       "      <td>Audio 1</td>\n",
       "      <td>Median</td>\n",
       "      <td>175.125447</td>\n",
       "      <td>Artificial Voice Median</td>\n",
       "    </tr>\n",
       "    <tr>\n",
       "      <th>12</th>\n",
       "      <td>Audio 2</td>\n",
       "      <td>Median</td>\n",
       "      <td>179.174395</td>\n",
       "      <td>Natural Voice Median</td>\n",
       "    </tr>\n",
       "    <tr>\n",
       "      <th>13</th>\n",
       "      <td>Audio 2</td>\n",
       "      <td>Median</td>\n",
       "      <td>189.340214</td>\n",
       "      <td>Artificial Voice Median</td>\n",
       "    </tr>\n",
       "    <tr>\n",
       "      <th>14</th>\n",
       "      <td>Audio 3</td>\n",
       "      <td>Median</td>\n",
       "      <td>172.760375</td>\n",
       "      <td>Natural Voice Median</td>\n",
       "    </tr>\n",
       "    <tr>\n",
       "      <th>15</th>\n",
       "      <td>Audio 3</td>\n",
       "      <td>Median</td>\n",
       "      <td>212.366522</td>\n",
       "      <td>Artificial Voice Median</td>\n",
       "    </tr>\n",
       "    <tr>\n",
       "      <th>16</th>\n",
       "      <td>Audio 4</td>\n",
       "      <td>Median</td>\n",
       "      <td>187.794602</td>\n",
       "      <td>Natural Voice Median</td>\n",
       "    </tr>\n",
       "    <tr>\n",
       "      <th>17</th>\n",
       "      <td>Audio 4</td>\n",
       "      <td>Median</td>\n",
       "      <td>153.135385</td>\n",
       "      <td>Artificial Voice Median</td>\n",
       "    </tr>\n",
       "    <tr>\n",
       "      <th>18</th>\n",
       "      <td>Audio 5</td>\n",
       "      <td>Median</td>\n",
       "      <td>193.913632</td>\n",
       "      <td>Natural Voice Median</td>\n",
       "    </tr>\n",
       "    <tr>\n",
       "      <th>19</th>\n",
       "      <td>Audio 5</td>\n",
       "      <td>Median</td>\n",
       "      <td>190.300833</td>\n",
       "      <td>Artificial Voice Median</td>\n",
       "    </tr>\n",
       "  </tbody>\n",
       "</table>\n",
       "</div>"
      ],
      "text/plain": [
       "   Female Pitch variable       value                     Type\n",
       "10      Audio 1   Median  156.968485     Natural Voice Median\n",
       "11      Audio 1   Median  175.125447  Artificial Voice Median\n",
       "12      Audio 2   Median  179.174395     Natural Voice Median\n",
       "13      Audio 2   Median  189.340214  Artificial Voice Median\n",
       "14      Audio 3   Median  172.760375     Natural Voice Median\n",
       "15      Audio 3   Median  212.366522  Artificial Voice Median\n",
       "16      Audio 4   Median  187.794602     Natural Voice Median\n",
       "17      Audio 4   Median  153.135385  Artificial Voice Median\n",
       "18      Audio 5   Median  193.913632     Natural Voice Median\n",
       "19      Audio 5   Median  190.300833  Artificial Voice Median"
      ]
     },
     "execution_count": 12,
     "metadata": {},
     "output_type": "execute_result"
    }
   ],
   "source": [
    "data_female2_melt = pd.melt(data_female_2,id_vars=['Female Pitch'],value_vars=['Average','Median'])\n",
    "Type = []\n",
    "for i in range(0,20):\n",
    "    if (i % 2) == 0 and (i<=9):\n",
    "        Type.append('Natural Voice Average')\n",
    "    elif (i % 2) == 0 and (i>9):\n",
    "        Type.append('Natural Voice Median')\n",
    "    elif (i % 2) != 0 and (i<=9):\n",
    "        Type.append('Artificial Voice Average')\n",
    "    else:\n",
    "        Type.append('Artificial Voice Median')\n",
    "    \n",
    "data_female2_melt['Type'] = Type\n",
    "data_female2_melt1 = data_female2_melt.iloc[:10,:]\n",
    "data_female2_melt2 = data_female2_melt.iloc[10:]\n",
    "data_female2_melt2"
   ]
  },
  {
   "cell_type": "code",
   "execution_count": 13,
   "id": "express-yemen",
   "metadata": {},
   "outputs": [
    {
     "data": {
      "image/png": "[encoded data removed]",
      "text/plain": [
       "<Figure size 432x288 with 1 Axes>"
      ]
     },
     "metadata": {
      "needs_background": "light"
     },
     "output_type": "display_data"
    }
   ],
   "source": [
    "dims = (6,4)\n",
    "fig,ax = plt.subplots(figsize=dims)\n",
    "with sns.axes_style('darkgrid'):\n",
    "    g = sns.barplot(x = 'value', y = 'Female Pitch',hue='Type',data=data_female2_melt,\n",
    "                    palette=['#DB845B', '#5B73DB','#76D625','#BD48CD'],ax=ax,saturation=0.9,\n",
    "                    order=['Audio 1','Audio 2','Audio 3','Audio 4','Audio 5']) #'#76D625','#BD48CD'\n",
    "    #h = sns.barplot(x = 'value', y = 'Female Pitch', hue='Type',data=data_female2_melt2,\n",
    "                    #palette=['#76D625','#BD48CD'],ax=ax,saturation=0.9,\n",
    "                    #order=['Audio 1','Audio 2','Audio 3','Audio 4','Audio 5'])\n",
    "    g.set_xlabel('Pitch [Hz]',weight='bold',size='x-large',alpha=0.8,family= 'Arial',stretch='extra-expanded')\n",
    "    g.set_ylabel('',weight='bold',size='x-large',alpha=0.8,family= 'Arial',stretch='extra-expanded')\n",
    "    g.set_title('Female Audio',weight='bold',size='xx-large',alpha=0.8,family= 'Arial',stretch='extra-expanded')\n",
    "    g.set_xticks([0,25,50,75,100,125,150,175,200,225])\n",
    "    g.set_yticklabels(['Audio 1','Audio 2','Audio 3','Audio 4','Audio 5'],size=12)\n",
    "    g.set_xticklabels(['0','25','50','75','100','125','150','175','200','225'],size=12)\n",
    "    g.legend(bbox_to_anchor=(0.9, 1))\n",
    "    g.grid(alpha=0.8)\n",
    "    #plt.savefig(\"Pitch Female Audio Median and Media.png\")"
   ]
  },
  {
   "cell_type": "code",
   "execution_count": 14,
   "id": "brown-egyptian",
   "metadata": {},
   "outputs": [
    {
     "data": {
      "text/html": [
       "<div>\n",
       "<style scoped>\n",
       "    .dataframe tbody tr th:only-of-type {\n",
       "        vertical-align: middle;\n",
       "    }\n",
       "\n",
       "    .dataframe tbody tr th {\n",
       "        vertical-align: top;\n",
       "    }\n",
       "\n",
       "    .dataframe thead th {\n",
       "        text-align: right;\n",
       "    }\n",
       "</style>\n",
       "<table border=\"1\" class=\"dataframe\">\n",
       "  <thead>\n",
       "    <tr style=\"text-align: right;\">\n",
       "      <th></th>\n",
       "      <th>Masculine Pitch</th>\n",
       "      <th>variable</th>\n",
       "      <th>value</th>\n",
       "      <th>Type</th>\n",
       "    </tr>\n",
       "  </thead>\n",
       "  <tbody>\n",
       "    <tr>\n",
       "      <th>0</th>\n",
       "      <td>Audio 1</td>\n",
       "      <td>Average</td>\n",
       "      <td>166.265263</td>\n",
       "      <td>Natural Voice Average</td>\n",
       "    </tr>\n",
       "    <tr>\n",
       "      <th>1</th>\n",
       "      <td>Audio 1</td>\n",
       "      <td>Average</td>\n",
       "      <td>157.150084</td>\n",
       "      <td>Artificial Voice Average</td>\n",
       "    </tr>\n",
       "    <tr>\n",
       "      <th>2</th>\n",
       "      <td>Audio 2</td>\n",
       "      <td>Average</td>\n",
       "      <td>123.352054</td>\n",
       "      <td>Natural Voice Average</td>\n",
       "    </tr>\n",
       "    <tr>\n",
       "      <th>3</th>\n",
       "      <td>Audio 2</td>\n",
       "      <td>Average</td>\n",
       "      <td>112.111028</td>\n",
       "      <td>Artificial Voice Average</td>\n",
       "    </tr>\n",
       "    <tr>\n",
       "      <th>4</th>\n",
       "      <td>Audio 3</td>\n",
       "      <td>Average</td>\n",
       "      <td>133.708648</td>\n",
       "      <td>Natural Voice Average</td>\n",
       "    </tr>\n",
       "  </tbody>\n",
       "</table>\n",
       "</div>"
      ],
      "text/plain": [
       "  Masculine Pitch variable       value                      Type\n",
       "0         Audio 1  Average  166.265263     Natural Voice Average\n",
       "1         Audio 1  Average  157.150084  Artificial Voice Average\n",
       "2         Audio 2  Average  123.352054     Natural Voice Average\n",
       "3         Audio 2  Average  112.111028  Artificial Voice Average\n",
       "4         Audio 3  Average  133.708648     Natural Voice Average"
      ]
     },
     "execution_count": 14,
     "metadata": {},
     "output_type": "execute_result"
    }
   ],
   "source": [
    "data_masculine2_melt = pd.melt(data_masculine_2,id_vars=['Masculine Pitch'],value_vars=['Average','Median'])\n",
    "data_masculine2_melt['Type'] = Type\n",
    "data_masculine2_melt.head()"
   ]
  },
  {
   "cell_type": "code",
   "execution_count": 15,
   "id": "labeled-tract",
   "metadata": {},
   "outputs": [
    {
     "data": {
      "image/png": "[encoded data removed]",
      "text/plain": [
       "<Figure size 432x288 with 1 Axes>"
      ]
     },
     "metadata": {
      "needs_background": "light"
     },
     "output_type": "display_data"
    }
   ],
   "source": [
    "dims = (6,4)\n",
    "fig,ax = plt.subplots(figsize=dims)\n",
    "with sns.axes_style('darkgrid'):\n",
    "    g = sns.barplot(x = 'value', y = 'Masculine Pitch',hue='Type',data=data_masculine2_melt,\n",
    "                    palette=['#DB845B', '#5B73DB','#76D625','#BD48CD'],ax=ax,saturation=0.9,\n",
    "                    order=['Audio 1','Audio 2','Audio 3','Audio 4','Audio 5']) #'#76D625','#BD48CD'\n",
    "    #h = sns.barplot(x = 'value', y = 'Female Pitch', hue='Type',data=data_female2_melt2,\n",
    "                    #palette=['#76D625','#BD48CD'],ax=ax,saturation=0.9,\n",
    "                    #order=['Audio 1','Audio 2','Audio 3','Audio 4','Audio 5'])\n",
    "    g.set_xlabel('Pitch [Hz]',weight='bold',size='x-large',alpha=0.8,family= 'Arial',stretch='extra-expanded')\n",
    "    g.set_ylabel('',weight='bold',size='x-large',alpha=0.8,family= 'Arial',stretch='extra-expanded')\n",
    "    g.set_title('Male Audio',weight='bold',size='xx-large',alpha=0.8,family= 'Arial',stretch='extra-expanded')\n",
    "    g.set_xticks([0,25,50,75,100,125,150,175,200,225])\n",
    "    g.set_yticklabels(['Audio 1','Audio 2','Audio 3','Audio 4','Audio 5'],size=12)\n",
    "    g.set_xticklabels(['0','25','50','75','100','125','150','175','200','225'],size=12)\n",
    "    g.legend(bbox_to_anchor=(0.75, 1)) #bbox_to_anchor=(0.9, 1)\n",
    "    g.grid(alpha=0.8)\n",
    "    #plt.savefig(\"Pitch Male Audio Median and Media.png\")"
   ]
  }
 ],
 "metadata": {
  "kernelspec": {
   "display_name": "Python 3",
   "language": "python",
   "name": "python3"
  },
  "language_info": {
   "codemirror_mode": {
    "name": "ipython",
    "version": 3
   },
   "file_extension": ".py",
   "mimetype": "text/x-python",
   "name": "python",
   "nbconvert_exporter": "python",
   "pygments_lexer": "ipython3",
   "version": "3.8.5"
  }
 },
 "nbformat": 4,
 "nbformat_minor": 5
}
